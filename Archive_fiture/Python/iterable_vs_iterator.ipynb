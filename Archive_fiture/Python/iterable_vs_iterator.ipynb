{
 "cells": [
  {
   "cell_type": "markdown",
   "metadata": {},
   "source": [
    "# Question\n",
    "Why are there some non-sequence object than can be used in for loop\n",
    "\n",
    "# Concept\n",
    "## Iterable\n",
    "1. It is capable of returning the value each at a time. \n",
    "2. must implement __iter__ method or __getitem__ method that implements sequence semantic\n",
    "## Iterator\n",
    "1. It is an object representing a stream of data.\n",
    "2. return successive items in a stream by calling to its __next__ method\n",
    "\n",
    "**Iterable** is an object that contains the values, and can return its values one at each time. The **iterator** is an executor that actually do the returning values for the **Iterable**.\n",
    "\n",
    "For the question, **for** loop needs the iterable as the input, and it will call the iter() method for you automatically.\n",
    "\n",
    "P.S. Although it is required to implement the __iter__ method inside **iterator** to make itself iterable, but it is not obeied inside CPython.\n",
    "\n",
    "# Example\n"
   ]
  },
  {
   "cell_type": "code",
   "execution_count": null,
   "metadata": {},
   "outputs": [],
   "source": [
    "class Nodeitor:\n",
    "    def __init__(self, node):\n",
    "        self.curr = node\n",
    "\n",
    "    def __next__(self):\n",
    "        if self.node == None:\n",
    "            raise StopIteration\n",
    "        else:\n",
    "            node, self.curr = self.curr, self.curr.next\n",
    "            return node\n",
    "\n",
    "\n",
    "class Node:\n",
    "    def __init__(self, name):\n",
    "        self.node = name\n",
    "        self.next = None\n",
    "    \n",
    "    def __iter__(self):\n",
    "        return Nodeitor(self)"
   ]
  }
 ],
 "metadata": {
  "interpreter": {
   "hash": "31f2aee4e71d21fbe5cf8b01ff0e069b9275f58929596ceb00d14d90e3e16cd6"
  },
  "kernelspec": {
   "display_name": "Python 3.6.9 64-bit",
   "language": "python",
   "name": "python3"
  },
  "language_info": {
   "name": "python",
   "version": "3.6.9"
  },
  "orig_nbformat": 4
 },
 "nbformat": 4,
 "nbformat_minor": 2
}
